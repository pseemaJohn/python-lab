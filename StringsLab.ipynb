{
 "cells": [
  {
   "cell_type": "code",
   "execution_count": 1,
   "metadata": {},
   "outputs": [
    {
     "name": "stdout",
     "output_type": "stream",
     "text": [
      "aa\n"
     ]
    }
   ],
   "source": [
    "print (\"a\" * 2)"
   ]
  },
  {
   "cell_type": "code",
   "execution_count": 2,
   "metadata": {},
   "outputs": [
    {
     "name": "stdout",
     "output_type": "stream",
     "text": [
      "this is my life with lots of love checking the \n",
      " if it works\n"
     ]
    }
   ],
   "source": [
    "print (\"this is my life \\\n",
    "with lots of love \\\n",
    "checking the \\n if it works\")"
   ]
  },
  {
   "cell_type": "code",
   "execution_count": 3,
   "metadata": {},
   "outputs": [
    {
     "name": "stdout",
     "output_type": "stream",
     "text": [
      "this should print the result \n",
      "as it is testing if it works\n"
     ]
    }
   ],
   "source": [
    "print ('''this should print the result \n",
    "as it is testing if it works''')"
   ]
  },
  {
   "cell_type": "code",
   "execution_count": 5,
   "metadata": {},
   "outputs": [
    {
     "name": "stdout",
     "output_type": "stream",
     "text": [
      "this should not execute the special char \\n and it should appear in same \\t line\n"
     ]
    }
   ],
   "source": [
    "print (r'this should not execute the special char \\n and it should appear in same \\t line')"
   ]
  },
  {
   "cell_type": "code",
   "execution_count": 10,
   "metadata": {},
   "outputs": [
    {
     "name": "stdout",
     "output_type": "stream",
     "text": [
      "This msg is to test the format keyword by Seema as its important for testing\n",
      "This msg is to test the format keyword by Seema as its important for testing\n",
      "This msg is to test the format keyword by Nevin as its important for watching\n",
      "This msg is to test the format keyword by Seema as its important for testing\n"
     ]
    }
   ],
   "source": [
    "name=\"Seema\"\n",
    "val=\"testing\"\n",
    "print('This msg is to test the format keyword by {} as its important for {}'.format(name,val))\n",
    "print('This msg is to test the format keyword by {0} as its important for {1}'.format(name,val))\n",
    "print('This msg is to test the format keyword by {name} as its important for {val}'.format(name=\"Nevin\",val=\"watching\"))\n",
    "print('This msg is to test the format keyword by {name} as its important for {val}'.format(name=name,val=val))"
   ]
  },
  {
   "cell_type": "code",
   "execution_count": 12,
   "metadata": {},
   "outputs": [
    {
     "name": "stdout",
     "output_type": "stream",
     "text": [
      "m\n"
     ]
    }
   ],
   "source": [
    "name=\"Seema\"\n",
    "print(name[3])"
   ]
  },
  {
   "cell_type": "code",
   "execution_count": 25,
   "metadata": {},
   "outputs": [
    {
     "name": "stdout",
     "output_type": "stream",
     "text": [
      "Seema Path\n",
      "a Pathikulangara\n",
      "\n",
      "20\n",
      "a a eema\n"
     ]
    }
   ],
   "source": [
    "name=\"Seema Pathikulangara\"\n",
    "#slicing\n",
    "print(name[:10])\n",
    "print(name[4:100])\n",
    "print(name[-1:-5])\n",
    "#len\n",
    "print(len(name))\n",
    "print(name[-1],end=\" \")\n",
    "print(name[-13],end=\" \");print(name[1:5])"
   ]
  },
  {
   "cell_type": "code",
   "execution_count": 28,
   "metadata": {},
   "outputs": [
    {
     "name": "stdout",
     "output_type": "stream",
     "text": [
      "Seema John\n",
      "SeaJh ahklnaa\n",
      "ah\n",
      "JOHN\n",
      "love\n"
     ]
    }
   ],
   "source": [
    "name=\"Seema John Pathikulangara\"\n",
    "print(name[:10]) #slicing\n",
    "print (name[::2]) #striding\n",
    "print(name[4:10:4]) #striding\n",
    "print(\"John\".upper()) #upper\n",
    "print(\"LOVE\".lower()) #lower"
   ]
  },
  {
   "cell_type": "code",
   "execution_count": 30,
   "metadata": {},
   "outputs": [
    {
     "name": "stdout",
     "output_type": "stream",
     "text": [
      "1\n",
      "Pumthikulanguma\n"
     ]
    }
   ],
   "source": [
    "name=\"Parthikulangara\"\n",
    "print(name.find('a'))\n",
    "print(name.replace(\"ar\",\"um\"))"
   ]
  },
  {
   "cell_type": "code",
   "execution_count": 31,
   "metadata": {},
   "outputs": [
    {
     "name": "stdout",
     "output_type": "stream",
     "text": [
      "Help on built-in function print in module builtins:\n",
      "\n",
      "print(...)\n",
      "    print(value, ..., sep=' ', end='\\n', file=sys.stdout, flush=False)\n",
      "    \n",
      "    Prints the values to a stream, or to sys.stdout by default.\n",
      "    Optional keyword arguments:\n",
      "    file:  a file-like object (stream); defaults to the current sys.stdout.\n",
      "    sep:   string inserted between values, default a space.\n",
      "    end:   string appended after the last value, default a newline.\n",
      "    flush: whether to forcibly flush the stream.\n",
      "\n"
     ]
    }
   ],
   "source": [
    "help(print)"
   ]
  },
  {
   "cell_type": "raw",
   "metadata": {},
   "source": [
    "print(\"Seema\",sep=\":\")"
   ]
  },
  {
   "cell_type": "code",
   "execution_count": 34,
   "metadata": {},
   "outputs": [
    {
     "name": "stdout",
     "output_type": "stream",
     "text": [
      "Seema John:hi how are u\n"
     ]
    }
   ],
   "source": [
    "print(\"Seema John\",\"hi how are u\",sep=\":\")"
   ]
  },
  {
   "cell_type": "code",
   "execution_count": 36,
   "metadata": {},
   "outputs": [
    {
     "name": "stdout",
     "output_type": "stream",
     "text": [
      "['hi', 'how', 'are', 'you']!testing\n"
     ]
    }
   ],
   "source": [
    "li=[\"hi\",\"how\",\"are\",\"you\"]\n",
    "print(li,\"testing\",sep=\"!\")"
   ]
  },
  {
   "cell_type": "code",
   "execution_count": null,
   "metadata": {},
   "outputs": [],
   "source": []
  }
 ],
 "metadata": {
  "kernelspec": {
   "display_name": "Python",
   "language": "python",
   "name": "conda-env-python-py"
  },
  "language_info": {
   "codemirror_mode": {
    "name": "ipython",
    "version": 3
   },
   "file_extension": ".py",
   "mimetype": "text/x-python",
   "name": "python",
   "nbconvert_exporter": "python",
   "pygments_lexer": "ipython3",
   "version": "3.6.7"
  }
 },
 "nbformat": 4,
 "nbformat_minor": 4
}
